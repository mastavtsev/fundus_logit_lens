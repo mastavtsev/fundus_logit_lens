{
 "cells": [
  {
   "cell_type": "markdown",
   "id": "d199372c-8dbe-4e60-a2ea-05fac20b5d95",
   "metadata": {},
   "source": [
    "Устанавливаем необходимые библиотеку в систему. Тестирование проводилось в среде Yandex Datasphere, поэтому устанавливались не все библиотеки, а только недостающие. "
   ]
  },
  {
   "cell_type": "code",
   "execution_count": 1,
   "id": "cf9dc0aa-7039-41cf-aa54-19526ad5b45a",
   "metadata": {
    "execution": {
     "iopub.execute_input": "2025-07-07T18:43:46.771508Z",
     "iopub.status.busy": "2025-07-07T18:43:46.770632Z",
     "iopub.status.idle": "2025-07-07T18:43:46.789887Z",
     "shell.execute_reply": "2025-07-07T18:43:46.789023Z",
     "shell.execute_reply.started": "2025-07-07T18:43:46.771470Z"
    }
   },
   "outputs": [],
   "source": [
    "# %pip install datasets transformers qwen_vl_utils"
   ]
  },
  {
   "cell_type": "code",
   "execution_count": 2,
   "id": "d24a81fd-9e99-43f0-92ed-2b08617c14ae",
   "metadata": {
    "execution": {
     "iopub.execute_input": "2025-07-07T18:43:46.791916Z",
     "iopub.status.busy": "2025-07-07T18:43:46.791326Z",
     "iopub.status.idle": "2025-07-07T18:43:46.800772Z",
     "shell.execute_reply": "2025-07-07T18:43:46.800072Z",
     "shell.execute_reply.started": "2025-07-07T18:43:46.791881Z"
    }
   },
   "outputs": [],
   "source": [
    "# %pip install --upgrade torch torchvision torchaudio --extra-index-url https://download.pytorch.org/whl/cu117\n",
    "# %pip install accelerate"
   ]
  },
  {
   "cell_type": "markdown",
   "id": "2a4f8471-36b1-4c19-a12e-65e62a2cbdc1",
   "metadata": {},
   "source": [
    "Подключаем библиотеки"
   ]
  },
  {
   "cell_type": "code",
   "execution_count": 3,
   "id": "5cbdef62-3692-4100-9f36-c1f47efeb3b1",
   "metadata": {
    "execution": {
     "iopub.execute_input": "2025-07-07T18:43:46.802754Z",
     "iopub.status.busy": "2025-07-07T18:43:46.801953Z",
     "iopub.status.idle": "2025-07-07T18:43:55.843028Z",
     "shell.execute_reply": "2025-07-07T18:43:55.842346Z",
     "shell.execute_reply.started": "2025-07-07T18:43:46.802721Z"
    },
    "tags": []
   },
   "outputs": [
    {
     "name": "stderr",
     "output_type": "stream",
     "text": [
      "/home/jupyter/.local/lib/python3.10/site-packages/transformers/utils/hub.py:105: FutureWarning: Using `TRANSFORMERS_CACHE` is deprecated and will be removed in v5 of Transformers. Use `HF_HOME` instead.\n",
      "  warnings.warn(\n",
      "2025-07-07 18:43:53.573535: I tensorflow/core/util/port.cc:110] oneDNN custom operations are on. You may see slightly different numerical results due to floating-point round-off errors from different computation orders. To turn them off, set the environment variable `TF_ENABLE_ONEDNN_OPTS=0`.\n",
      "2025-07-07 18:43:53.620292: I tensorflow/core/platform/cpu_feature_guard.cc:182] This TensorFlow binary is optimized to use available CPU instructions in performance-critical operations.\n",
      "To enable the following instructions: AVX2 AVX512F AVX512_VNNI FMA, in other operations, rebuild TensorFlow with the appropriate compiler flags.\n",
      "2025-07-07 18:43:54.465372: W tensorflow/compiler/tf2tensorrt/utils/py_utils.cc:38] TF-TRT Warning: Could not find TensorRT\n"
     ]
    }
   ],
   "source": [
    "import argparse\n",
    "import json\n",
    "import os\n",
    "import time\n",
    "from pathlib import Path\n",
    "\n",
    "from typing import List, Dict, Tuple, Optional\n",
    "\n",
    "import torch\n",
    "from torch import nn\n",
    "from tqdm.auto import tqdm\n",
    "\n",
    "from datasets import load_dataset, Dataset\n",
    "from PIL import Image\n",
    "import matplotlib.pyplot as plt\n",
    "import seaborn as sns\n",
    "import numpy as np\n",
    "\n",
    "from transformers import (\n",
    "    AutoProcessor,\n",
    "    AutoModelForCausalLM,\n",
    "    AutoTokenizer,\n",
    ")\n",
    "\n",
    "from transformers import Qwen2_5_VLForConditionalGeneration\n",
    "\n",
    "from qwen_vl_utils import process_vision_info"
   ]
  },
  {
   "cell_type": "markdown",
   "id": "ad7bae44-0816-4f53-ae9a-61490e9028e8",
   "metadata": {},
   "source": [
    "Функции-утилиты для работы с файлами"
   ]
  },
  {
   "cell_type": "code",
   "execution_count": 4,
   "id": "00c0002c-7ca8-47c0-9e75-b1daf6a7ebca",
   "metadata": {
    "execution": {
     "iopub.execute_input": "2025-07-07T18:43:55.845254Z",
     "iopub.status.busy": "2025-07-07T18:43:55.844217Z",
     "iopub.status.idle": "2025-07-07T18:43:55.863Z",
     "shell.execute_reply": "2025-07-07T18:43:55.862436Z",
     "shell.execute_reply.started": "2025-07-07T18:43:55.845226Z"
    },
    "tags": []
   },
   "outputs": [],
   "source": [
    "def ensure_dir(path: Path) -> None:\n",
    "    path.mkdir(parents=True, exist_ok=True)\n",
    "\n",
    "\n",
    "def timestamp() -> str:\n",
    "    return time.strftime(\"%Y%m%d_%H%M%S\", time.localtime())"
   ]
  },
  {
   "cell_type": "markdown",
   "id": "f9ec569e-ca33-4721-94c0-1eceed51cfe1",
   "metadata": {},
   "source": [
    "Функция для создания датасета на основе набора фотографий глазного дна"
   ]
  },
  {
   "cell_type": "code",
   "execution_count": 5,
   "id": "a828974e-603e-4ed1-8b9c-9d1eb69adbbb",
   "metadata": {
    "execution": {
     "iopub.execute_input": "2025-07-07T18:43:55.864700Z",
     "iopub.status.busy": "2025-07-07T18:43:55.863731Z",
     "iopub.status.idle": "2025-07-07T18:43:55.895356Z",
     "shell.execute_reply": "2025-07-07T18:43:55.894781Z",
     "shell.execute_reply.started": "2025-07-07T18:43:55.864666Z"
    },
    "tags": []
   },
   "outputs": [],
   "source": [
    "def get_dataset(root_dir=\"/home/jupyter/datasphere/project/data\", target_size=(1026, 684)) -> Dataset:\n",
    "    records = []\n",
    "    \n",
    "    root_dir = Path(root_dir)\n",
    "    \n",
    "    for file_name in os.listdir(root_dir):\n",
    "        file_path = root_dir / file_name\n",
    "        if file_path.suffix.lower() in [\".jpg\", \".jpeg\", \".png\", \".bmp\", \".tiff\"]:\n",
    "            try:\n",
    "                img = Image.open(file_path).convert(\"RGB\")\n",
    "                img = img.resize(target_size, Image.BILINEAR)\n",
    "                records.append({\"image\": img})\n",
    "            except Exception as e:\n",
    "                print(f\"Не удалось открыть {file_path}: {e}\")\n",
    "\n",
    "    return Dataset.from_list(records)"
   ]
  },
  {
   "cell_type": "markdown",
   "id": "7e9ca06f-e8a4-445e-a494-7780de48c267",
   "metadata": {},
   "source": [
    "Функция для визуализации изменения вероятности набора токенов по слоям модели"
   ]
  },
  {
   "cell_type": "code",
   "execution_count": 6,
   "id": "5d3ec3c8-cba1-4cd5-839b-4111f2bdf324",
   "metadata": {
    "execution": {
     "iopub.execute_input": "2025-07-07T18:43:55.897449Z",
     "iopub.status.busy": "2025-07-07T18:43:55.896758Z",
     "iopub.status.idle": "2025-07-07T18:43:55.908633Z",
     "shell.execute_reply": "2025-07-07T18:43:55.907948Z",
     "shell.execute_reply.started": "2025-07-07T18:43:55.897418Z"
    },
    "tags": []
   },
   "outputs": [],
   "source": [
    "def plot_token_trajectory(result: Dict, save_path: Path, title: Optional[str] = None):\n",
    "    \"\"\"Line plot of top‑k token probabilities across layers.\"\"\"\n",
    "\n",
    "    topk_probs = result[\"topk_probs\"]  # (L+1) × k\n",
    "    tokens = result[\"topk_tokens\"]\n",
    "    layers = list(range(topk_probs.shape[0]))\n",
    "\n",
    "    plt.figure(figsize=(10, 4))\n",
    "    for i in range(topk_probs.shape[1]):\n",
    "        prob_series = topk_probs[:, i]\n",
    "        token_label = tokens[-1][i]  # final layer’s rank‑i token as label\n",
    "        plt.plot(layers, prob_series, label=token_label)\n",
    "\n",
    "    plt.xlabel(\"Layer index\")\n",
    "    plt.ylabel(\"Probability at last position\")\n",
    "    plt.title(title or \"Token probability trajectories\")\n",
    "    plt.legend()\n",
    "    plt.tight_layout()\n",
    "    plt.savefig(save_path, dpi=150)\n",
    "    plt.close()"
   ]
  },
  {
   "cell_type": "markdown",
   "id": "8aeca696-566f-4968-8267-e161bcbb9566",
   "metadata": {},
   "source": [
    "Основной модуль, реализующий подход logit lens "
   ]
  },
  {
   "cell_type": "code",
   "execution_count": 7,
   "id": "be436bda-a26c-4ca2-9026-0d4bb70622ea",
   "metadata": {
    "execution": {
     "iopub.execute_input": "2025-07-07T18:43:55.910477Z",
     "iopub.status.busy": "2025-07-07T18:43:55.909605Z",
     "iopub.status.idle": "2025-07-07T18:43:55.943339Z",
     "shell.execute_reply": "2025-07-07T18:43:55.942692Z",
     "shell.execute_reply.started": "2025-07-07T18:43:55.910445Z"
    },
    "tags": []
   },
   "outputs": [],
   "source": [
    "class LogitLensMultimodal:\n",
    "    def __init__(\n",
    "        self,\n",
    "        model: Qwen2_5_VLForConditionalGeneration,\n",
    "        model_name: str,\n",
    "        dtype: torch.dtype = torch.float16,\n",
    "        device: str | torch.device = \"cuda\" if torch.cuda.is_available() else \"cpu\",\n",
    "    ):\n",
    "        \"\"\"Loads model + processor & tokenizer for vision‑language probing.\"\"\"\n",
    "\n",
    "        self.model = model.eval()\n",
    "\n",
    "        self.device = device\n",
    "\n",
    "        self.tokenizer = AutoTokenizer.from_pretrained(\n",
    "            model_name, trust_remote_code=True\n",
    "        )\n",
    "        self.processor = AutoProcessor.from_pretrained(\n",
    "            model_name, trust_remote_code=True, use_fast=True\n",
    "        )\n",
    "\n",
    "        self.lm_head = self.model.get_output_embeddings()\n",
    "\n",
    "    @torch.inference_mode()\n",
    "    def run_sample(\n",
    "        self,\n",
    "        image: Image.Image,\n",
    "        prompt: str,\n",
    "        top_k: int = 5,\n",
    "    ) -> Dict:\n",
    "        \"\"\"Forward a single (image, prompt) pair & collect layer diagnostics.\"\"\"\n",
    "\n",
    "        # Создаем входное сообщение, используя пример из репозитория модели Qwen2.5-VL\n",
    "        messages = [\n",
    "            {\n",
    "                \"role\": \"user\",\n",
    "                \"content\": [\n",
    "                    {\"type\": \"image\", \"image\": image},\n",
    "                    {\"type\": \"text\", \"text\": prompt},\n",
    "                ],\n",
    "            }\n",
    "        ]\n",
    "        \n",
    "        text_prompt = self.processor.apply_chat_template(\n",
    "            messages, tokenize=False, add_generation_prompt=True\n",
    "        )\n",
    "\n",
    "        image_inputs, video_inputs = process_vision_info(messages)\n",
    "\n",
    "        inputs = self.processor(\n",
    "            text=[text_prompt],\n",
    "            images=image_inputs,\n",
    "            videos=video_inputs,\n",
    "            padding=True,\n",
    "            return_tensors=\"pt\",\n",
    "        )\n",
    "        inputs = inputs.to(self.device)\n",
    "        \n",
    "        out = self.model(**inputs)\n",
    "        hidden_states = out.hidden_states\n",
    "\n",
    "        # Позиция последнего токена входного промта\n",
    "        pos = inputs[\"input_ids\"].shape[1] - 1\n",
    "\n",
    "        layer_logits = []\n",
    "        \n",
    "        # Проходимся по всем слоям модели\n",
    "        for i in range(len(hidden_states)):\n",
    "            h_last = hidden_states[i][:, pos, :] # Берём представление последнего токена последовательности\n",
    "            l = self.lm_head(h_last) # Прогоняем его через классификационный слой\n",
    "            \n",
    "            layer_logits.append(l.squeeze(0).float().cpu())\n",
    "\n",
    "        layer_probs = torch.stack(layer_logits).softmax(-1)  # (L+1)×|V|\n",
    "        topk_probs, topk_ids = layer_probs.topk(top_k, dim=-1)\n",
    "\n",
    "        # Преобразуем токены в читаемый вид\n",
    "        flat_tokens = self.tokenizer.batch_decode(topk_ids.flatten())\n",
    "        flat_tokens = [t.replace(\" \", \"\") for t in flat_tokens]\n",
    "        topk_tokens: List[List[str]] = [\n",
    "            flat_tokens[i * top_k : (i + 1) * top_k] for i in range(len(hidden_states))\n",
    "        ]\n",
    "\n",
    "        return {\n",
    "            \"topk_probs\": topk_probs.numpy(),\n",
    "            \"topk_ids\": topk_ids.numpy(),\n",
    "            \"topk_tokens\": topk_tokens,\n",
    "            \"layer_probs\": layer_probs.numpy(),\n",
    "            \"input_ids\": inputs[\"input_ids\"].cpu().numpy(),\n",
    "        }"
   ]
  },
  {
   "cell_type": "markdown",
   "id": "36b24c1a-e05e-48e1-b80c-bad0069126cf",
   "metadata": {},
   "source": [
    "В эксперименте используется следующий набор атрибутов, определяющий параметры работы модели и конфигурацию запуска:\n",
    "\n",
    "* model_name: \"Qwen/Qwen2.5-VL-7B-Instruct\" — имя модели, загружаемой из Hugging Face Hub.\n",
    "\n",
    "* device: \"cuda\" — вычисления выполняются на графическом процессоре (GPU), если он доступен.\n",
    "\n",
    "* root_dir: \"/home/jupyter/datasphere/project/data\" — путь к корневой директории с данными, содержащей изображения, используемые для анализа.\n",
    "\n",
    "* target_size: (1026, 684) — размер изображений (ширина и высота в пикселях), к которому они приводятся перед подачей в модель.\n",
    "\n",
    "* output_dir: \"./results\" — путь к директории, в которую сохраняются результаты выполнения эксперимента.\n",
    "\n",
    "* run_name: None — пользовательское имя запуска не задано; при необходимости оно может быть сгенерировано автоматически.\n",
    "\n",
    "* top_k: 5 — число токенов, отслеживаемых в logit lens на каждом слое модели.\n",
    "\n",
    "* prompt: \"Descripte this image. Answer with one word.\" — текстовый запрос, используемый для генерации описания изображения. Ответ модели ожидается в формате одного слова. Именно первый токен возможно ответа и анализируется с помощью подхода logit lens."
   ]
  },
  {
   "cell_type": "code",
   "execution_count": 8,
   "id": "4114ddcf-103f-42a4-8c36-02eb7d486a74",
   "metadata": {
    "execution": {
     "iopub.execute_input": "2025-07-07T18:43:55.944614Z",
     "iopub.status.busy": "2025-07-07T18:43:55.944084Z",
     "iopub.status.idle": "2025-07-07T18:43:55.962812Z",
     "shell.execute_reply": "2025-07-07T18:43:55.962183Z",
     "shell.execute_reply.started": "2025-07-07T18:43:55.944581Z"
    },
    "tags": []
   },
   "outputs": [],
   "source": [
    "from argparse import Namespace\n",
    "\n",
    "args = Namespace(\n",
    "    model_name=\"Qwen/Qwen2.5-VL-7B-Instruct\",\n",
    "    device=\"cuda\",\n",
    "    root_dir=\"/home/jupyter/datasphere/project/data\",\n",
    "    target_size=(1026, 684),\n",
    "    output_dir=\"./results\",\n",
    "    run_name=None,\n",
    "    top_k=5,\n",
    "    prompt=\"Descripte this image.  Answer with one word.\"\n",
    ")"
   ]
  },
  {
   "cell_type": "markdown",
   "id": "bab7e087-ad70-462a-98b1-6e98c43c42da",
   "metadata": {},
   "source": [
    "Подгружаем модель"
   ]
  },
  {
   "cell_type": "code",
   "execution_count": 9,
   "id": "c0989599-122f-4480-b588-32bc2d8019e1",
   "metadata": {
    "execution": {
     "iopub.execute_input": "2025-07-07T18:43:55.964479Z",
     "iopub.status.busy": "2025-07-07T18:43:55.963622Z",
     "iopub.status.idle": "2025-07-07T18:43:59.667164Z",
     "shell.execute_reply": "2025-07-07T18:43:59.666474Z",
     "shell.execute_reply.started": "2025-07-07T18:43:55.964441Z"
    }
   },
   "outputs": [
    {
     "name": "stderr",
     "output_type": "stream",
     "text": [
      "/home/jupyter/.local/lib/python3.10/site-packages/transformers/generation/configuration_utils.py:820: UserWarning: `return_dict_in_generate` is NOT set to `True`, but `output_hidden_states` is. When `return_dict_in_generate` is not `True`, `output_hidden_states` is ignored.\n",
      "  warnings.warn(\n",
      "/home/jupyter/.local/lib/python3.10/site-packages/transformers/generation/configuration_utils.py:820: UserWarning: `return_dict_in_generate` is NOT set to `True`, but `output_hidden_states` is. When `return_dict_in_generate` is not `True`, `output_hidden_states` is ignored.\n",
      "  warnings.warn(\n",
      "Loading checkpoint shards: 100%|██████████| 5/5 [00:02<00:00,  1.79it/s]\n",
      "/home/jupyter/.local/lib/python3.10/site-packages/transformers/generation/configuration_utils.py:820: UserWarning: `return_dict_in_generate` is NOT set to `True`, but `output_hidden_states` is. When `return_dict_in_generate` is not `True`, `output_hidden_states` is ignored.\n",
      "  warnings.warn(\n",
      "/home/jupyter/.local/lib/python3.10/site-packages/transformers/generation/configuration_utils.py:820: UserWarning: `return_dict_in_generate` is NOT set to `True`, but `output_hidden_states` is. When `return_dict_in_generate` is not `True`, `output_hidden_states` is ignored.\n",
      "  warnings.warn(\n"
     ]
    }
   ],
   "source": [
    "device = torch.device(args.device if torch.cuda.is_available() else \"cpu\")\n",
    "\n",
    "model = Qwen2_5_VLForConditionalGeneration.from_pretrained(\n",
    "            args.model_name,\n",
    "            trust_remote_code=True,\n",
    "            device_map=\"auto\",\n",
    "            torch_dtype=\"auto\",\n",
    "            output_hidden_states=True,\n",
    "            attn_implementation=\"flash_attention_2\" if device == \"cuda\" else None,\n",
    "        ).eval()"
   ]
  },
  {
   "cell_type": "markdown",
   "id": "fd203691-9da8-41eb-aa75-e8cb12064aaa",
   "metadata": {},
   "source": [
    "Создаем объект класса для работы с logit lens"
   ]
  },
  {
   "cell_type": "code",
   "execution_count": 10,
   "id": "845ac5a4-a4fa-4186-bfe0-1de8934b6534",
   "metadata": {
    "execution": {
     "iopub.execute_input": "2025-07-07T18:43:59.668667Z",
     "iopub.status.busy": "2025-07-07T18:43:59.667952Z",
     "iopub.status.idle": "2025-07-07T18:44:02.507341Z",
     "shell.execute_reply": "2025-07-07T18:44:02.506654Z",
     "shell.execute_reply.started": "2025-07-07T18:43:59.668631Z"
    },
    "tags": []
   },
   "outputs": [],
   "source": [
    "lens = LogitLensMultimodal(model, args.model_name, device=device)"
   ]
  },
  {
   "cell_type": "markdown",
   "id": "92d83d82-c0e0-4c71-9a63-dc4f8c534818",
   "metadata": {},
   "source": [
    "Осуществляем основной pipline обработки данных"
   ]
  },
  {
   "cell_type": "code",
   "execution_count": 11,
   "id": "374ae11c-421b-4688-bea1-30bd11ed3d21",
   "metadata": {
    "execution": {
     "iopub.execute_input": "2025-07-07T18:44:02.509092Z",
     "iopub.status.busy": "2025-07-07T18:44:02.508263Z",
     "iopub.status.idle": "2025-07-07T18:44:25.254627Z",
     "shell.execute_reply": "2025-07-07T18:44:25.253903Z",
     "shell.execute_reply.started": "2025-07-07T18:44:02.509046Z"
    },
    "tags": []
   },
   "outputs": [
    {
     "name": "stderr",
     "output_type": "stream",
     "text": [
      "100%|██████████| 15/15 [00:15<00:00,  1.04s/it]"
     ]
    },
    {
     "name": "stdout",
     "output_type": "stream",
     "text": [
      "Completed all samples.  Results saved to results/Qwen2.5-VL-7B-Instruct_20250707_184402\n"
     ]
    },
    {
     "name": "stderr",
     "output_type": "stream",
     "text": [
      "\n"
     ]
    }
   ],
   "source": [
    "run_name = args.run_name or f\"{Path(args.model_name).name.split('/')[-1]}_{timestamp()}\"\n",
    "out_dir = Path(args.output_dir) / run_name\n",
    "ensure_dir(out_dir)\n",
    "\n",
    "ds = get_dataset(root_dir=args.root_dir, target_size=args.target_size)\n",
    "\n",
    "with open(out_dir / \"config.json\", \"w\", encoding=\"utf‑8\") as f:\n",
    "    json.dump(vars(args), f, indent=2)\n",
    "\n",
    "for idx, sample in tqdm(list(enumerate(ds))):\n",
    "    image: Image.Image = sample[\"image\"]\n",
    "\n",
    "    prompt = args.prompt\n",
    "    result = lens.run_sample(image, prompt, top_k=args.top_k)\n",
    "\n",
    "    plot_token_trajectory(\n",
    "        result,\n",
    "        out_dir / f\"token_trajectories_{idx:04d}.png\",\n",
    "        title=f\"Sample #{idx}\",\n",
    "    )\n",
    "\n",
    "print(f\"Completed all samples.  Results saved to {out_dir}\")"
   ]
  },
  {
   "cell_type": "markdown",
   "id": "91c976c5-16b9-4183-8cc6-30961464cd91",
   "metadata": {},
   "source": [
    "Визуализируем результат оценки вероятностей токенов, и получим следующий результат:"
   ]
  },
  {
   "cell_type": "code",
   "execution_count": 13,
   "id": "9e1cca57-f0d4-47ca-b0ed-1547fe0abe7b",
   "metadata": {
    "execution": {
     "iopub.execute_input": "2025-07-07T18:44:58.422851Z",
     "iopub.status.busy": "2025-07-07T18:44:58.422004Z",
     "iopub.status.idle": "2025-07-07T18:44:58.592113Z",
     "shell.execute_reply": "2025-07-07T18:44:58.591395Z",
     "shell.execute_reply.started": "2025-07-07T18:44:58.422823Z"
    },
    "tags": []
   },
   "outputs": [
    {
     "data": {
      "image/png": "[encoded data removed]",
      "text/plain": [
       "<PIL.PngImagePlugin.PngImageFile image mode=RGBA size=1500x600>"
      ]
     },
     "metadata": {},
     "output_type": "display_data"
    }
   ],
   "source": [
    "file_path = out_dir / f\"token_trajectories_0001.png\"\n",
    "img = Image.open(file_path)\n",
    "display(img)"
   ]
  },
  {
   "cell_type": "markdown",
   "id": "98ce3370-fb02-4078-972d-cf1dd7bd65c2",
   "metadata": {},
   "source": [
    "Как можно видеть наибольшую вероятность имеет токен Ret, который является составной частью полного ответа, Retina. \n",
    "\n",
    "То есть модель Qwen2.5-VL действительно правильно понимает по фотографии, что перед ней изображение глазного дна. \n",
    "\n",
    "На первых слоях модель еще плохо понимает содержание входных данных, однако уже к середине сети Qwen 2.5-VL уверенно идентифицирует на изображении глазное дно и фокусируется на токене, соответствующем слову Retina. Последующие слои лишь усиливают эту уверенность, что подтверждает адекватность внутреннего представления модели о содержимом снимка."
   ]
  },
  {
   "cell_type": "code",
   "execution_count": null,
   "id": "cdaf26e5-78d8-44ab-b3f9-e87a13317605",
   "metadata": {},
   "outputs": [],
   "source": []
  }
 ],
 "metadata": {
  "kernelspec": {
   "display_name": "DataSphere Kernel",
   "language": "python",
   "name": "python3"
  },
  "language_info": {
   "codemirror_mode": {
    "name": "ipython",
    "version": 3
   },
   "file_extension": ".py",
   "mimetype": "text/x-python",
   "name": "python",
   "nbconvert_exporter": "python",
   "pygments_lexer": "ipython3",
   "version": "3.10.12"
  }
 },
 "nbformat": 4,
 "nbformat_minor": 5
}
